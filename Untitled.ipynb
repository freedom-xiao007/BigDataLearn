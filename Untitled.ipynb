{
 "cells": [
  {
   "cell_type": "markdown",
   "metadata": {},
   "source": [
    "# Numpy简单入门\n",
    "***\n",
    "&ensp;&ensp;&ensp;&ensp;在Numpy中有两个重要的对象:ndarray和ufunc,下面进行简单的介绍和使用\n",
    "\n",
    "## ndarray\n",
    "&ensp;&ensp;&ensp;&ensp;ndarray实际就是多维数组,用于解决多维数组的问题.在Numpy数组中,维数称为秩,一维数组的秩为1,二维数组的秩为2,以此类推.在Numpy中每一个线性的数组称为一个轴,其实秩就是描述轴的数量.\n",
    "\n",
    "### 创建简单数组\n",
    "&ensp;&ensp;&ensp;&ensp;下面代码是使用示例:"
   ]
  },
  {
   "cell_type": "code",
   "execution_count": 34,
   "metadata": {},
   "outputs": [
    {
     "name": "stdout",
     "output_type": "stream",
     "text": [
      "[1 2 3]\n",
      "[[1 2 3]\n",
      " [4 0 6]\n",
      " [7 8 9]]\n"
     ]
    }
   ],
   "source": [
    "# 导入numpy包\n",
    "import numpy as np\n",
    "# 定义一个一维数组\n",
    "a = np.array([1, 2, 3])\n",
    "# 定义一个二维数组\n",
    "b = np.array([[1, 2, 3], [4, 5, 6], [7, 8, 9]])\n",
    "\n",
    "# 改变b二维数组的值\n",
    "b[1, 1] = 0\n",
    "\n",
    "print(a)\n",
    "print(b)"
   ]
  },
  {
   "cell_type": "markdown",
   "metadata": {},
   "source": [
    "### 创建结构数组\n",
    "&ensp;&ensp;&ensp;&ensp;如果你想统计一个班级里面学生的姓名、年龄，以及语文、英语、数学成绩之类的,使用上面的下标也可以,但是不够便利,使用结构数组就会更直观和方便.\n",
    "\n",
    "&ensp;&ensp;&ensp;&ensp;下面代码是使用示例:"
   ]
  },
  {
   "cell_type": "code",
   "execution_count": 13,
   "metadata": {},
   "outputs": [
    {
     "name": "stdout",
     "output_type": "stream",
     "text": [
      "[b'zhangFei' b'GuanYu' b'ZhaoYun']\n",
      "[32 24 28]\n",
      "[75 85 85]\n",
      "[100  96  92]\n",
      "[90. 88. 96.]\n",
      "28.0\n"
     ]
    }
   ],
   "source": [
    "import numpy as np\n",
    "\n",
    "# 定义dtype结构类型,formats是数据类型:字符串,整型,整型,整型,浮点数\n",
    "studenttype = np.dtype({\n",
    "    \"names\":[\"name\", \"age\", \"chinese\", \"math\", \"english\"],\n",
    "    \"formats\":[\"S32\", \"int\", \"int\", \"int\", \"float32\"]\n",
    "})\n",
    "\n",
    "# 通过设置数组的dtype=studenttype,生成结构数组\n",
    "students = np.array([(\"zhangFei\", 32, 75, 100, 90), (\"GuanYu\", 24, 85, 96, 88), (\"ZhaoYun\", 28, 85, 92, 96)], studenttype)\n",
    "\n",
    "# 通过结构体中的关键字分别获取所有的名字列表,年龄列表,语文成绩列表,数学成绩列表,英语成绩列表\n",
    "names = students[\"name\"]\n",
    "ages = students[\"age\"]\n",
    "chineses = students[\"chinese\"]\n",
    "maths = students[\"math\"]\n",
    "englishs = students[\"english\"]\n",
    "\n",
    "print(names)\n",
    "print(ages)\n",
    "print(chineses)\n",
    "print(maths)\n",
    "print(englishs)\n",
    "\n",
    "# 使用numpy平均数函数计算年龄平均数\n",
    "print(np.mean(ages))"
   ]
  },
  {
   "cell_type": "markdown",
   "metadata": {},
   "source": [
    "## ufunc运算\n",
    "&ensp;&ensp;&ensp;&ensp;ufunc就是numpy中预先实现好的各种运算函数,其采用C语言进行实现,速度非常快.\n",
    "\n",
    "### 连续数组的创建\n",
    "&ensp;&ensp;&ensp;&ensp;Numpy可以很方便的创建连续数组,比如下面的示例代码使用arange和linspace函数进行创建"
   ]
  },
  {
   "cell_type": "code",
   "execution_count": 19,
   "metadata": {},
   "outputs": [
    {
     "name": "stdout",
     "output_type": "stream",
     "text": [
      "[1 3 5 7 9]\n",
      "[1. 3. 5. 7. 9.]\n"
     ]
    }
   ],
   "source": [
    "import numpy as np\n",
    "\n",
    "# 指定初始值,终值,步长来创建等差数列的一维数组,默认不包含终值\n",
    "x1 = np.arange(1, 11, 2)\n",
    "\n",
    "# 指定初始值,终值,元素个数来创建等差数列的一维数组\n",
    "x2 = np.linspace(1, 9, 5)\n",
    "\n",
    "print(x1)\n",
    "print(x2)"
   ]
  },
  {
   "cell_type": "markdown",
   "metadata": {},
   "source": [
    "### 算数运算\n",
    "&ensp;&ensp;&ensp;&ensp;通过Numpy可以进行加减乘除,求N次方和取余数,示例代码如下:"
   ]
  },
  {
   "cell_type": "code",
   "execution_count": 22,
   "metadata": {},
   "outputs": [
    {
     "name": "stdout",
     "output_type": "stream",
     "text": [
      "[ 2.  6. 10. 14. 18.]\n",
      "[0. 0. 0. 0. 0.]\n",
      "[ 1.  9. 25. 49. 81.]\n",
      "[1. 1. 1. 1. 1.]\n",
      "[1.00000000e+00 2.70000000e+01 3.12500000e+03 8.23543000e+05\n",
      " 3.87420489e+08]\n",
      "[0. 0. 0. 0. 0.]\n"
     ]
    }
   ],
   "source": [
    "import numpy as np\n",
    "x1 = np.arange(1, 11, 2)\n",
    "x2 = np.linspace(1, 9, 5)\n",
    "\n",
    "print(np.add(x1, x2))\n",
    "print(np.subtract(x1, x2))\n",
    "print(np.multiply(x1, x2))\n",
    "print(np.divide(x1, x2))\n",
    "print(np.power(x1, x2))\n",
    "print(np.remainder(x1, x2))"
   ]
  },
  {
   "cell_type": "markdown",
   "metadata": {},
   "source": [
    "### 统计函数\n",
    "&ensp;&ensp;&ensp;&ensp;如果你想要对一堆数据有更清晰的认识,就需要对这些数据进行描述性的统计分析,如最大值,最小值,平均值,是否符合正态分布,方差和标准差等等,这些数据可以让你对这堆数据有更清晰的认知\n",
    "\n",
    "&ensp;&ensp;&ensp;&ensp;下面是使用示例:\n",
    "\n",
    "#### 最大值函数amax(),最小值函数amin()"
   ]
  },
  {
   "cell_type": "code",
   "execution_count": 24,
   "metadata": {},
   "outputs": [
    {
     "name": "stdout",
     "output_type": "stream",
     "text": [
      "9\n",
      "1\n",
      "[7 8 9]\n",
      "[1 2 3]\n",
      "[3 6 9]\n",
      "[1 4 7]\n"
     ]
    }
   ],
   "source": [
    "import numpy as np\n",
    "a = np.array([[1, 2, 3], [4, 5, 6], [7, 8, 9]])\n",
    "\n",
    "# 计算整个数组中的最大最小值\n",
    "print(np.amax(a))\n",
    "print(np.amin(a))\n",
    "\n",
    "# 将一行数据视为一组数据计算最大最小值\n",
    "print(np.amax(a, 0))\n",
    "print(np.amin(a, 0))\n",
    "\n",
    "# 将一列数据视为一组数据计算最大最小值\n",
    "print(np.amax(a, 1))\n",
    "print(np.amin(a, 1))"
   ]
  },
  {
   "cell_type": "markdown",
   "metadata": {},
   "source": [
    "#### 统计最大值与最小值之差ptp()"
   ]
  },
  {
   "cell_type": "code",
   "execution_count": 25,
   "metadata": {},
   "outputs": [
    {
     "name": "stdout",
     "output_type": "stream",
     "text": [
      "8\n",
      "[6 6 6]\n",
      "[2 2 2]\n"
     ]
    }
   ],
   "source": [
    "import numpy as np\n",
    "a = np.array([[1, 2, 3], [4, 5, 6], [7, 8, 9]])\n",
    "print(np.ptp(a))\n",
    "print(np.ptp(a, 0))\n",
    "print(np.ptp(a, 1))"
   ]
  },
  {
   "cell_type": "markdown",
   "metadata": {},
   "source": [
    "#### 统计数组的百分位数percentile()"
   ]
  },
  {
   "cell_type": "code",
   "execution_count": 26,
   "metadata": {},
   "outputs": [
    {
     "name": "stdout",
     "output_type": "stream",
     "text": [
      "5.0\n",
      "[4. 5. 6.]\n",
      "[2. 5. 8.]\n"
     ]
    }
   ],
   "source": [
    "import numpy as np\n",
    "a = np.array([[1, 2, 3], [4, 5, 6], [7, 8, 9]])\n",
    "# 第二个参数是百分位参数设置,代表第p个百分位数,这个P的取值范围为0-100,如果是0就是求最小值,50是求平均数,100是求最大值\n",
    "print(np.percentile(a, 50))\n",
    "print(np.percentile(a, 50, 0))\n",
    "print(np.percentile(a, 50, 1))"
   ]
  },
  {
   "cell_type": "markdown",
   "metadata": {},
   "source": [
    "#### 统计数组中的中位数median(),平均数mean()"
   ]
  },
  {
   "cell_type": "code",
   "execution_count": 27,
   "metadata": {},
   "outputs": [
    {
     "name": "stdout",
     "output_type": "stream",
     "text": [
      "5.0\n",
      "[4. 5. 6.]\n",
      "[2. 5. 8.]\n",
      "5.0\n",
      "[4. 5. 6.]\n",
      "[2. 5. 8.]\n"
     ]
    }
   ],
   "source": [
    "import numpy as np\n",
    "a = np.array([[1, 2, 3], [4, 5, 6], [7, 8, 9]])\n",
    "\n",
    "print(np.median(a))\n",
    "print(np.median(a, 0))\n",
    "print(np.median(a, 1))\n",
    "\n",
    "print(np.mean(a))\n",
    "print(np.mean(a, 0))\n",
    "print(np.mean(a, 1))"
   ]
  },
  {
   "cell_type": "markdown",
   "metadata": {},
   "source": [
    "#### 统计数组中的加权平均值average()"
   ]
  },
  {
   "cell_type": "code",
   "execution_count": 30,
   "metadata": {},
   "outputs": [
    {
     "name": "stdout",
     "output_type": "stream",
     "text": [
      "3.6\n",
      "3.9\n"
     ]
    }
   ],
   "source": [
    "import numpy as np\n",
    "a = np.array([1, 2, 4, 5, 6])\n",
    "# 不设置权重,默认每个值的权重都是相同的:(1+2+4+5+6)/5\n",
    "print(np.average(a))\n",
    "\n",
    "# 设置权重:(1*1+2*2+4*3+2*5+2*6)/(1+2+3+2+2)\n",
    "wts = np.array([1, 2, 3, 2, 2])\n",
    "print(np.average(a, weights=wts))"
   ]
  },
  {
   "cell_type": "markdown",
   "metadata": {},
   "source": [
    "#### 统计数组中的标准差std(),方差var()"
   ]
  },
  {
   "cell_type": "code",
   "execution_count": 31,
   "metadata": {},
   "outputs": [
    {
     "name": "stdout",
     "output_type": "stream",
     "text": [
      "1.8547236990991407\n",
      "3.44\n"
     ]
    }
   ],
   "source": [
    "import numpy as np\n",
    "a = np.array([1, 2, 4, 5, 6])\n",
    "print(np.std(a))\n",
    "print(np.var(a))"
   ]
  },
  {
   "cell_type": "markdown",
   "metadata": {},
   "source": [
    "#### Numpy排序\n",
    "&ensp;&ensp;&ensp;&ensp;直接使用sort(a, axis=1, kind=\"quicksort\", order=None),其中kind参数标识排序算法,可以填入quicksort(快速排序),mergesort(合并排序),heapsort(堆排序);order字段是按照某个字段进行排序\n",
    "\n",
    "&ensp;&ensp;&ensp;&ensp;代码示例如下:"
   ]
  },
  {
   "cell_type": "code",
   "execution_count": 33,
   "metadata": {},
   "outputs": [
    {
     "name": "stdout",
     "output_type": "stream",
     "text": [
      "[[1 3 9]\n",
      " [4 5 6]\n",
      " [2 7 8]]\n",
      "[[1 5 2]\n",
      " [4 8 3]\n",
      " [7 9 6]]\n"
     ]
    }
   ],
   "source": [
    "import numpy as np\n",
    "a = np.array([[1, 9, 3], [4, 5, 6], [7, 8, 2]])\n",
    "print(np.sort(a))\n",
    "print(np.sort(a, 0))"
   ]
  },
  {
   "cell_type": "code",
   "execution_count": null,
   "metadata": {},
   "outputs": [],
   "source": []
  }
 ],
 "metadata": {
  "kernelspec": {
   "display_name": "Python 3",
   "language": "python",
   "name": "python3"
  },
  "language_info": {
   "codemirror_mode": {
    "name": "ipython",
    "version": 3
   },
   "file_extension": ".py",
   "mimetype": "text/x-python",
   "name": "python",
   "nbconvert_exporter": "python",
   "pygments_lexer": "ipython3",
   "version": "3.7.3"
  }
 },
 "nbformat": 4,
 "nbformat_minor": 2
}
